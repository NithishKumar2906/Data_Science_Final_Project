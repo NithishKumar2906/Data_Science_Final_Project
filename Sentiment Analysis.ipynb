{
 "cells": [
  {
   "cell_type": "code",
   "execution_count": 1,
   "id": "4dce3f08-e534-4336-8e3b-f79ad175a854",
   "metadata": {},
   "outputs": [],
   "source": [
    "import pandas as pd\n",
    "import re\n",
    "import  nltk\n",
    "import matplotlib.pyplot as plt\n",
    "import seaborn as sns\n",
    "from nltk.tokenize import word_tokenize as wt\n",
    "from wordcloud import WordCloud"
   ]
  },
  {
   "cell_type": "code",
   "execution_count": 3,
   "id": "37d9bae7-9409-453b-ae91-ea3241f11ddd",
   "metadata": {},
   "outputs": [
    {
     "name": "stdin",
     "output_type": "stream",
     "text": [
      " 'Computer science focuses on the development and testing of software and software systems. It involves working with mathematical models, data analysis and security, algorithms, and computational theory. Computer scientists define the computational principles that are the basis of all software.3'\n"
     ]
    }
   ],
   "source": [
    "Sentiment_analysis = str(input())"
   ]
  },
  {
   "cell_type": "code",
   "execution_count": 4,
   "id": "9e9a7073-aed5-44ae-ba9f-20f4e80e2163",
   "metadata": {},
   "outputs": [
    {
     "data": {
      "text/plain": [
       "\"'Computer science focuses on the development and testing of software and software systems. It involves working with mathematical models, data analysis and security, algorithms, and computational theory. Computer scientists define the computational principles that are the basis of all software.3'\""
      ]
     },
     "execution_count": 4,
     "metadata": {},
     "output_type": "execute_result"
    }
   ],
   "source": [
    "Sentiment_analysis"
   ]
  },
  {
   "cell_type": "code",
   "execution_count": 5,
   "id": "3aaad099-9da8-4f57-9604-6af91aec4c5c",
   "metadata": {},
   "outputs": [],
   "source": [
    "from nltk.corpus import stopwords"
   ]
  },
  {
   "cell_type": "code",
   "execution_count": 6,
   "id": "b1923dc5-5e91-4608-8e54-eff51898742b",
   "metadata": {},
   "outputs": [],
   "source": [
    "words = wt(Sentiment_analysis)\n",
    "sentences = wt(Sentiment_analysis)\n",
    "stop_words = set(stopwords.words('english'))\n",
    "filtered_words = [word.lower() for word in words if word.isalnum() and word.lower() not in stop_words]"
   ]
  },
  {
   "cell_type": "code",
   "execution_count": 7,
   "id": "f66490d7-c5dd-4db0-aa39-438debf83fe9",
   "metadata": {},
   "outputs": [
    {
     "name": "stdout",
     "output_type": "stream",
     "text": [
      "['science', 'focuses', 'development', 'testing', 'software', 'software', 'systems', 'involves', 'working', 'mathematical', 'models', 'data', 'analysis', 'security', 'algorithms', 'computational', 'theory', 'computer', 'scientists', 'define', 'computational', 'principles', 'basis']\n"
     ]
    }
   ],
   "source": [
    "print(filtered_words)"
   ]
  },
  {
   "cell_type": "code",
   "execution_count": 8,
   "id": "08f6ffa9-5f58-4b08-bf79-6666cce6927e",
   "metadata": {},
   "outputs": [
    {
     "name": "stdout",
     "output_type": "stream",
     "text": [
      "{\"shouldn't\", 'them', \"doesn't\", 'did', 'each', 's', 'an', 'am', 'isn', 'but', 'with', 'above', \"isn't\", 'y', 'it', 'this', 'all', 'should', \"it's\", 'm', 'herself', 'shouldn', 'through', 'our', 'will', 'theirs', 'hasn', 'more', 'shan', 'most', 'nor', 've', 'has', 'in', 'doesn', 'which', 'below', 'until', 'between', 'same', 'him', 't', 'just', 'ours', 'themselves', 'for', 'to', 'don', 'couldn', 'because', 'can', 'there', 'both', 'of', \"mustn't\", 'the', 'further', 'his', \"that'll\", 'haven', 'as', \"haven't\", 'once', 'under', \"you're\", 'where', 'down', \"you've\", \"aren't\", 'mightn', \"weren't\", 'very', \"couldn't\", \"didn't\", 'how', 'is', \"wouldn't\", \"don't\", 'into', 'he', 'these', 'aren', 'if', \"wasn't\", 'again', 'not', 'ma', 'being', 'whom', 'so', 'such', 'other', 'ain', 'before', 'own', 'yourselves', 'those', 'some', 'itself', 'about', 'on', 'she', 'was', 'been', 'a', 'few', 'weren', 'who', 'that', 'out', 'too', 'after', 'ourselves', 'i', 'your', 're', 'didn', 'wasn', 'd', \"she's\", \"shan't\", 'himself', 'when', 'no', 'up', \"hadn't\", 'myself', 'by', 'having', 'any', 'my', 'yourself', 'wouldn', 'be', \"should've\", 'her', 'had', 'from', \"needn't\", 'hadn', 'during', 'while', 'me', 'hers', \"you'll\", \"mightn't\", 'll', 'their', 'yours', 'than', 'only', 'and', 'do', 'have', 'or', 'here', 'over', 'we', 'you', 'are', 'off', \"hasn't\", \"won't\", 'now', 'why', 'needn', 'against', 'mustn', 'they', \"you'd\", 'were', 'then', 'what', 'does', 'at', 'its', 'won', 'o', 'doing'}\n"
     ]
    }
   ],
   "source": [
    "print(stop_words)"
   ]
  },
  {
   "cell_type": "code",
   "execution_count": 9,
   "id": "1e3cc5ba-1fc2-402d-88b6-f462213e2554",
   "metadata": {},
   "outputs": [
    {
     "name": "stdout",
     "output_type": "stream",
     "text": [
      "[\"'Computer\", 'science', 'focuses', 'on', 'the', 'development', 'and', 'testing', 'of', 'software', 'and', 'software', 'systems', '.', 'It', 'involves', 'working', 'with', 'mathematical', 'models', ',', 'data', 'analysis', 'and', 'security', ',', 'algorithms', ',', 'and', 'computational', 'theory', '.', 'Computer', 'scientists', 'define', 'the', 'computational', 'principles', 'that', 'are', 'the', 'basis', 'of', 'all', 'software.3', \"'\"]\n"
     ]
    }
   ],
   "source": [
    "print(sentences)"
   ]
  },
  {
   "cell_type": "code",
   "execution_count": null,
   "id": "d636abe0-980e-47d0-9d36-5adcad2e5300",
   "metadata": {},
   "outputs": [],
   "source": [
    "WC = WordCloud(width=4000,height=4000).generate(Sentiment_analysis)\n",
    "plt.figure(1,figsize=(10,10))\n",
    "plt.imshow(WC)"
   ]
  },
  {
   "cell_type": "code",
   "execution_count": null,
   "id": "519e5ea8-22d7-4335-a623-0a4535ea969b",
   "metadata": {},
   "outputs": [],
   "source": []
  }
 ],
 "metadata": {
  "kernelspec": {
   "display_name": "Python 3 (ipykernel)",
   "language": "python",
   "name": "python3"
  },
  "language_info": {
   "codemirror_mode": {
    "name": "ipython",
    "version": 3
   },
   "file_extension": ".py",
   "mimetype": "text/x-python",
   "name": "python",
   "nbconvert_exporter": "python",
   "pygments_lexer": "ipython3",
   "version": "3.11.7"
  }
 },
 "nbformat": 4,
 "nbformat_minor": 5
}
