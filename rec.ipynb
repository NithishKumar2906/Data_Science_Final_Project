{
 "cells": [
  {
   "cell_type": "code",
   "execution_count": 1,
   "id": "0ca6da55-39b6-446d-8536-98a4a4d4d8c3",
   "metadata": {},
   "outputs": [],
   "source": [
    "import pandas as pd\n",
    "import numpy as np\n",
    "import nltk"
   ]
  },
  {
   "cell_type": "code",
   "execution_count": 3,
   "id": "1296c2ce-a2ea-4544-b957-7eafe7fe0e09",
   "metadata": {},
   "outputs": [],
   "source": [
    "product_data = pd.read_csv(\"amazon_product.csv\")"
   ]
  },
  {
   "cell_type": "code",
   "execution_count": 4,
   "id": "9556159a-4018-47a2-8fee-52e5c1cf7aef",
   "metadata": {},
   "outputs": [
    {
     "data": {
      "text/html": [
       "<div>\n",
       "<style scoped>\n",
       "    .dataframe tbody tr th:only-of-type {\n",
       "        vertical-align: middle;\n",
       "    }\n",
       "\n",
       "    .dataframe tbody tr th {\n",
       "        vertical-align: top;\n",
       "    }\n",
       "\n",
       "    .dataframe thead th {\n",
       "        text-align: right;\n",
       "    }\n",
       "</style>\n",
       "<table border=\"1\" class=\"dataframe\">\n",
       "  <thead>\n",
       "    <tr style=\"text-align: right;\">\n",
       "      <th></th>\n",
       "      <th>id</th>\n",
       "      <th>Title</th>\n",
       "      <th>Description</th>\n",
       "      <th>Category</th>\n",
       "    </tr>\n",
       "  </thead>\n",
       "  <tbody>\n",
       "    <tr>\n",
       "      <th>0</th>\n",
       "      <td>1</td>\n",
       "      <td>Swissmar Capstore Select Storage Rack for 18-...</td>\n",
       "      <td>Swissmar's capstore select 18 storage unit kee...</td>\n",
       "      <td>Home &amp; Kitchen Kitchen &amp; Dining Kitchen Utens...</td>\n",
       "    </tr>\n",
       "    <tr>\n",
       "      <th>1</th>\n",
       "      <td>2</td>\n",
       "      <td>Gemini200 Delta CV-880 Gold Crown Livery Airc...</td>\n",
       "      <td>Welcome to the exciting world of GeminiJets! O...</td>\n",
       "      <td>Toys &amp; Games Hobbies Models &amp; Model Kits Pre-...</td>\n",
       "    </tr>\n",
       "    <tr>\n",
       "      <th>2</th>\n",
       "      <td>5</td>\n",
       "      <td>Superior Threads 10501-2172 Magnifico Cream P...</td>\n",
       "      <td>For quilting and embroidery, this product is m...</td>\n",
       "      <td>Arts, Crafts &amp; Sewing Sewing Thread &amp; Floss S...</td>\n",
       "    </tr>\n",
       "    <tr>\n",
       "      <th>3</th>\n",
       "      <td>6</td>\n",
       "      <td>Fashion Angels Color Rox Hair Chox Kit</td>\n",
       "      <td>Experiment with the haute trend of hair chalki...</td>\n",
       "      <td>Beauty &amp; Personal Care Hair Care Hair Colorin...</td>\n",
       "    </tr>\n",
       "    <tr>\n",
       "      <th>4</th>\n",
       "      <td>8</td>\n",
       "      <td>Union Creative Giant Killing Figure 05: Daisu...</td>\n",
       "      <td>From Union Creative. Turn your display shelf i...</td>\n",
       "      <td>Toys &amp; Games › Action Figures &amp; Statues › Sta...</td>\n",
       "    </tr>\n",
       "  </tbody>\n",
       "</table>\n",
       "</div>"
      ],
      "text/plain": [
       "   id                                              Title  \\\n",
       "0   1   Swissmar Capstore Select Storage Rack for 18-...   \n",
       "1   2   Gemini200 Delta CV-880 Gold Crown Livery Airc...   \n",
       "2   5   Superior Threads 10501-2172 Magnifico Cream P...   \n",
       "3   6            Fashion Angels Color Rox Hair Chox Kit    \n",
       "4   8   Union Creative Giant Killing Figure 05: Daisu...   \n",
       "\n",
       "                                         Description  \\\n",
       "0  Swissmar's capstore select 18 storage unit kee...   \n",
       "1  Welcome to the exciting world of GeminiJets! O...   \n",
       "2  For quilting and embroidery, this product is m...   \n",
       "3  Experiment with the haute trend of hair chalki...   \n",
       "4  From Union Creative. Turn your display shelf i...   \n",
       "\n",
       "                                            Category  \n",
       "0   Home & Kitchen Kitchen & Dining Kitchen Utens...  \n",
       "1   Toys & Games Hobbies Models & Model Kits Pre-...  \n",
       "2   Arts, Crafts & Sewing Sewing Thread & Floss S...  \n",
       "3   Beauty & Personal Care Hair Care Hair Colorin...  \n",
       "4   Toys & Games › Action Figures & Statues › Sta...  "
      ]
     },
     "execution_count": 4,
     "metadata": {},
     "output_type": "execute_result"
    }
   ],
   "source": [
    "product_data.head()"
   ]
  },
  {
   "cell_type": "raw",
   "id": "bbf66d9a-4028-4a14-89b5-bf0d0401f938",
   "metadata": {},
   "source": [
    "Clean the data by removing unnecessary columns and rows. For example, you can remove the \"id\" column."
   ]
  },
  {
   "cell_type": "code",
   "execution_count": 5,
   "id": "5b819542-2d12-4e21-9d70-030c95576de0",
   "metadata": {},
   "outputs": [
    {
     "data": {
      "text/html": [
       "<div>\n",
       "<style scoped>\n",
       "    .dataframe tbody tr th:only-of-type {\n",
       "        vertical-align: middle;\n",
       "    }\n",
       "\n",
       "    .dataframe tbody tr th {\n",
       "        vertical-align: top;\n",
       "    }\n",
       "\n",
       "    .dataframe thead th {\n",
       "        text-align: right;\n",
       "    }\n",
       "</style>\n",
       "<table border=\"1\" class=\"dataframe\">\n",
       "  <thead>\n",
       "    <tr style=\"text-align: right;\">\n",
       "      <th></th>\n",
       "      <th>Title</th>\n",
       "      <th>Description</th>\n",
       "      <th>Category</th>\n",
       "    </tr>\n",
       "  </thead>\n",
       "  <tbody>\n",
       "    <tr>\n",
       "      <th>0</th>\n",
       "      <td>Swissmar Capstore Select Storage Rack for 18-...</td>\n",
       "      <td>Swissmar's capstore select 18 storage unit kee...</td>\n",
       "      <td>Home &amp; Kitchen Kitchen &amp; Dining Kitchen Utens...</td>\n",
       "    </tr>\n",
       "    <tr>\n",
       "      <th>1</th>\n",
       "      <td>Gemini200 Delta CV-880 Gold Crown Livery Airc...</td>\n",
       "      <td>Welcome to the exciting world of GeminiJets! O...</td>\n",
       "      <td>Toys &amp; Games Hobbies Models &amp; Model Kits Pre-...</td>\n",
       "    </tr>\n",
       "    <tr>\n",
       "      <th>2</th>\n",
       "      <td>Superior Threads 10501-2172 Magnifico Cream P...</td>\n",
       "      <td>For quilting and embroidery, this product is m...</td>\n",
       "      <td>Arts, Crafts &amp; Sewing Sewing Thread &amp; Floss S...</td>\n",
       "    </tr>\n",
       "    <tr>\n",
       "      <th>3</th>\n",
       "      <td>Fashion Angels Color Rox Hair Chox Kit</td>\n",
       "      <td>Experiment with the haute trend of hair chalki...</td>\n",
       "      <td>Beauty &amp; Personal Care Hair Care Hair Colorin...</td>\n",
       "    </tr>\n",
       "    <tr>\n",
       "      <th>4</th>\n",
       "      <td>Union Creative Giant Killing Figure 05: Daisu...</td>\n",
       "      <td>From Union Creative. Turn your display shelf i...</td>\n",
       "      <td>Toys &amp; Games › Action Figures &amp; Statues › Sta...</td>\n",
       "    </tr>\n",
       "    <tr>\n",
       "      <th>...</th>\n",
       "      <td>...</td>\n",
       "      <td>...</td>\n",
       "      <td>...</td>\n",
       "    </tr>\n",
       "    <tr>\n",
       "      <th>663</th>\n",
       "      <td>Rosemery (Rosemary) - Box of Six 20 Stick Hex...</td>\n",
       "      <td>Six tubes, each containing 20 sticks of incens...</td>\n",
       "      <td>Home &amp; Kitchen Home Décor Home Fragrance Ince...</td>\n",
       "    </tr>\n",
       "    <tr>\n",
       "      <th>664</th>\n",
       "      <td>InterDesign Linus Stacking Organizer Bin, Ext...</td>\n",
       "      <td>The InterDesign Linus Organizer Bins are stack...</td>\n",
       "      <td>Home &amp; Kitchen Kitchen &amp; Dining Storage &amp; Org...</td>\n",
       "    </tr>\n",
       "    <tr>\n",
       "      <th>665</th>\n",
       "      <td>Gourmet Rubber Stamps Diagonal Stripes Stenci...</td>\n",
       "      <td>Gourmet Rubber Stamps-Stencil. This delicious ...</td>\n",
       "      <td>Toys &amp; Games Arts &amp; Crafts Printing &amp; Stamping</td>\n",
       "    </tr>\n",
       "    <tr>\n",
       "      <th>666</th>\n",
       "      <td>Spenco RX Arch Cushion Full Length Comfort Su...</td>\n",
       "      <td>Soft, durable arch support. consumers with gen...</td>\n",
       "      <td>Health &amp; Household › Health Care › Foot Healt...</td>\n",
       "    </tr>\n",
       "    <tr>\n",
       "      <th>667</th>\n",
       "      <td>Car Kits</td>\n",
       "      <td>Kits for Car</td>\n",
       "      <td>Car Accessories</td>\n",
       "    </tr>\n",
       "  </tbody>\n",
       "</table>\n",
       "<p>668 rows × 3 columns</p>\n",
       "</div>"
      ],
      "text/plain": [
       "                                                 Title  \\\n",
       "0     Swissmar Capstore Select Storage Rack for 18-...   \n",
       "1     Gemini200 Delta CV-880 Gold Crown Livery Airc...   \n",
       "2     Superior Threads 10501-2172 Magnifico Cream P...   \n",
       "3              Fashion Angels Color Rox Hair Chox Kit    \n",
       "4     Union Creative Giant Killing Figure 05: Daisu...   \n",
       "..                                                 ...   \n",
       "663   Rosemery (Rosemary) - Box of Six 20 Stick Hex...   \n",
       "664   InterDesign Linus Stacking Organizer Bin, Ext...   \n",
       "665   Gourmet Rubber Stamps Diagonal Stripes Stenci...   \n",
       "666   Spenco RX Arch Cushion Full Length Comfort Su...   \n",
       "667                                           Car Kits   \n",
       "\n",
       "                                           Description  \\\n",
       "0    Swissmar's capstore select 18 storage unit kee...   \n",
       "1    Welcome to the exciting world of GeminiJets! O...   \n",
       "2    For quilting and embroidery, this product is m...   \n",
       "3    Experiment with the haute trend of hair chalki...   \n",
       "4    From Union Creative. Turn your display shelf i...   \n",
       "..                                                 ...   \n",
       "663  Six tubes, each containing 20 sticks of incens...   \n",
       "664  The InterDesign Linus Organizer Bins are stack...   \n",
       "665  Gourmet Rubber Stamps-Stencil. This delicious ...   \n",
       "666  Soft, durable arch support. consumers with gen...   \n",
       "667                                       Kits for Car   \n",
       "\n",
       "                                              Category  \n",
       "0     Home & Kitchen Kitchen & Dining Kitchen Utens...  \n",
       "1     Toys & Games Hobbies Models & Model Kits Pre-...  \n",
       "2     Arts, Crafts & Sewing Sewing Thread & Floss S...  \n",
       "3     Beauty & Personal Care Hair Care Hair Colorin...  \n",
       "4     Toys & Games › Action Figures & Statues › Sta...  \n",
       "..                                                 ...  \n",
       "663   Home & Kitchen Home Décor Home Fragrance Ince...  \n",
       "664   Home & Kitchen Kitchen & Dining Storage & Org...  \n",
       "665    Toys & Games Arts & Crafts Printing & Stamping   \n",
       "666   Health & Household › Health Care › Foot Healt...  \n",
       "667                                    Car Accessories  \n",
       "\n",
       "[668 rows x 3 columns]"
      ]
     },
     "execution_count": 5,
     "metadata": {},
     "output_type": "execute_result"
    }
   ],
   "source": [
    "product_data.drop('id',axis=1)"
   ]
  },
  {
   "cell_type": "code",
   "execution_count": 6,
   "id": "2931ab30-4e71-4fda-a8d1-72766d87ba7d",
   "metadata": {},
   "outputs": [
    {
     "name": "stdout",
     "output_type": "stream",
     "text": [
      "<class 'pandas.core.frame.DataFrame'>\n",
      "RangeIndex: 668 entries, 0 to 667\n",
      "Data columns (total 4 columns):\n",
      " #   Column       Non-Null Count  Dtype \n",
      "---  ------       --------------  ----- \n",
      " 0   id           668 non-null    int64 \n",
      " 1   Title        668 non-null    object\n",
      " 2   Description  668 non-null    object\n",
      " 3   Category     668 non-null    object\n",
      "dtypes: int64(1), object(3)\n",
      "memory usage: 21.0+ KB\n"
     ]
    }
   ],
   "source": [
    "product_data.info()"
   ]
  },
  {
   "cell_type": "code",
   "execution_count": 7,
   "id": "8c6c4a72-a14b-41b8-9506-e36f743a9d3b",
   "metadata": {},
   "outputs": [
    {
     "data": {
      "text/plain": [
       "id             0\n",
       "Title          0\n",
       "Description    0\n",
       "Category       0\n",
       "dtype: int64"
      ]
     },
     "execution_count": 7,
     "metadata": {},
     "output_type": "execute_result"
    }
   ],
   "source": [
    "product_data.isnull().sum()"
   ]
  },
  {
   "cell_type": "code",
   "execution_count": 8,
   "id": "97b09445-defa-401f-8c4f-9d0ab6f62ee2",
   "metadata": {},
   "outputs": [],
   "source": [
    "from nltk.stem.snowball import SnowballStemmer"
   ]
  },
  {
   "cell_type": "code",
   "execution_count": 9,
   "id": "880a89fe-6972-4beb-9433-41c3f714a0fa",
   "metadata": {},
   "outputs": [],
   "source": [
    "stemmer = SnowballStemmer(\"english\")\n",
    "def tokensize_stem(text):\n",
    "    tokens = nltk.word_tokenize(text.lower())\n",
    "    stem = [stemmer.stem(w) for w in tokens]\n",
    "    return \" \".join(stem)"
   ]
  },
  {
   "cell_type": "code",
   "execution_count": 10,
   "id": "ea425f97-233f-43cf-ac5f-0fc6782cfef1",
   "metadata": {},
   "outputs": [],
   "source": [
    "product_data['stemmed_tokens'] = product_data.apply(lambda row: tokensize_stem(row['Title']+ ' '+row['Description']),axis=1)"
   ]
  },
  {
   "cell_type": "code",
   "execution_count": 11,
   "id": "3fa20b01-16e0-4823-9338-0b6f9c8b60cf",
   "metadata": {},
   "outputs": [
    {
     "data": {
      "text/html": [
       "<div>\n",
       "<style scoped>\n",
       "    .dataframe tbody tr th:only-of-type {\n",
       "        vertical-align: middle;\n",
       "    }\n",
       "\n",
       "    .dataframe tbody tr th {\n",
       "        vertical-align: top;\n",
       "    }\n",
       "\n",
       "    .dataframe thead th {\n",
       "        text-align: right;\n",
       "    }\n",
       "</style>\n",
       "<table border=\"1\" class=\"dataframe\">\n",
       "  <thead>\n",
       "    <tr style=\"text-align: right;\">\n",
       "      <th></th>\n",
       "      <th>id</th>\n",
       "      <th>Title</th>\n",
       "      <th>Description</th>\n",
       "      <th>Category</th>\n",
       "      <th>stemmed_tokens</th>\n",
       "    </tr>\n",
       "  </thead>\n",
       "  <tbody>\n",
       "    <tr>\n",
       "      <th>0</th>\n",
       "      <td>1</td>\n",
       "      <td>Swissmar Capstore Select Storage Rack for 18-...</td>\n",
       "      <td>Swissmar's capstore select 18 storage unit kee...</td>\n",
       "      <td>Home &amp; Kitchen Kitchen &amp; Dining Kitchen Utens...</td>\n",
       "      <td>swissmar capstor select storag rack for 18-pac...</td>\n",
       "    </tr>\n",
       "    <tr>\n",
       "      <th>1</th>\n",
       "      <td>2</td>\n",
       "      <td>Gemini200 Delta CV-880 Gold Crown Livery Airc...</td>\n",
       "      <td>Welcome to the exciting world of GeminiJets! O...</td>\n",
       "      <td>Toys &amp; Games Hobbies Models &amp; Model Kits Pre-...</td>\n",
       "      <td>gemini200 delta cv-880 gold crown liveri aircr...</td>\n",
       "    </tr>\n",
       "    <tr>\n",
       "      <th>2</th>\n",
       "      <td>5</td>\n",
       "      <td>Superior Threads 10501-2172 Magnifico Cream P...</td>\n",
       "      <td>For quilting and embroidery, this product is m...</td>\n",
       "      <td>Arts, Crafts &amp; Sewing Sewing Thread &amp; Floss S...</td>\n",
       "      <td>superior thread 10501-2172 magnifico cream puf...</td>\n",
       "    </tr>\n",
       "    <tr>\n",
       "      <th>3</th>\n",
       "      <td>6</td>\n",
       "      <td>Fashion Angels Color Rox Hair Chox Kit</td>\n",
       "      <td>Experiment with the haute trend of hair chalki...</td>\n",
       "      <td>Beauty &amp; Personal Care Hair Care Hair Colorin...</td>\n",
       "      <td>fashion angel color rox hair chox kit experi w...</td>\n",
       "    </tr>\n",
       "    <tr>\n",
       "      <th>4</th>\n",
       "      <td>8</td>\n",
       "      <td>Union Creative Giant Killing Figure 05: Daisu...</td>\n",
       "      <td>From Union Creative. Turn your display shelf i...</td>\n",
       "      <td>Toys &amp; Games › Action Figures &amp; Statues › Sta...</td>\n",
       "      <td>union creativ giant kill figur 05 : daisuk tsu...</td>\n",
       "    </tr>\n",
       "  </tbody>\n",
       "</table>\n",
       "</div>"
      ],
      "text/plain": [
       "   id                                              Title  \\\n",
       "0   1   Swissmar Capstore Select Storage Rack for 18-...   \n",
       "1   2   Gemini200 Delta CV-880 Gold Crown Livery Airc...   \n",
       "2   5   Superior Threads 10501-2172 Magnifico Cream P...   \n",
       "3   6            Fashion Angels Color Rox Hair Chox Kit    \n",
       "4   8   Union Creative Giant Killing Figure 05: Daisu...   \n",
       "\n",
       "                                         Description  \\\n",
       "0  Swissmar's capstore select 18 storage unit kee...   \n",
       "1  Welcome to the exciting world of GeminiJets! O...   \n",
       "2  For quilting and embroidery, this product is m...   \n",
       "3  Experiment with the haute trend of hair chalki...   \n",
       "4  From Union Creative. Turn your display shelf i...   \n",
       "\n",
       "                                            Category  \\\n",
       "0   Home & Kitchen Kitchen & Dining Kitchen Utens...   \n",
       "1   Toys & Games Hobbies Models & Model Kits Pre-...   \n",
       "2   Arts, Crafts & Sewing Sewing Thread & Floss S...   \n",
       "3   Beauty & Personal Care Hair Care Hair Colorin...   \n",
       "4   Toys & Games › Action Figures & Statues › Sta...   \n",
       "\n",
       "                                      stemmed_tokens  \n",
       "0  swissmar capstor select storag rack for 18-pac...  \n",
       "1  gemini200 delta cv-880 gold crown liveri aircr...  \n",
       "2  superior thread 10501-2172 magnifico cream puf...  \n",
       "3  fashion angel color rox hair chox kit experi w...  \n",
       "4  union creativ giant kill figur 05 : daisuk tsu...  "
      ]
     },
     "execution_count": 11,
     "metadata": {},
     "output_type": "execute_result"
    }
   ],
   "source": [
    "product_data.head()"
   ]
  },
  {
   "cell_type": "code",
   "execution_count": 12,
   "id": "82024091-57af-45b0-8565-96a274d95655",
   "metadata": {},
   "outputs": [
    {
     "data": {
      "text/plain": [
       "0      swissmar capstor select storag rack for 18-pac...\n",
       "1      gemini200 delta cv-880 gold crown liveri aircr...\n",
       "2      superior thread 10501-2172 magnifico cream puf...\n",
       "3      fashion angel color rox hair chox kit experi w...\n",
       "4      union creativ giant kill figur 05 : daisuk tsu...\n",
       "                             ...                        \n",
       "663    rosemeri ( rosemari ) - box of six 20 stick he...\n",
       "664    interdesign linus stack organ bin , extra larg...\n",
       "665    gourmet rubber stamp diagon stripe stencil , 6...\n",
       "666    spenco rx arch cushion full length comfort sup...\n",
       "667                                  car kit kit for car\n",
       "Name: stemmed_tokens, Length: 668, dtype: object"
      ]
     },
     "execution_count": 12,
     "metadata": {},
     "output_type": "execute_result"
    }
   ],
   "source": [
    "product_data['stemmed_tokens']"
   ]
  },
  {
   "cell_type": "code",
   "execution_count": 13,
   "id": "4d2bff6d-ff40-4f12-a322-e7fb4ab468ca",
   "metadata": {},
   "outputs": [],
   "source": [
    "from sklearn.feature_extraction.text import TfidfVectorizer\n",
    "from sklearn.metrics.pairwise import cosine_similarity"
   ]
  },
  {
   "cell_type": "code",
   "execution_count": null,
   "id": "ea4d7627-60b9-46a8-b72c-1fb5ad929336",
   "metadata": {},
   "outputs": [],
   "source": []
  }
 ],
 "metadata": {
  "kernelspec": {
   "display_name": "Python 3 (ipykernel)",
   "language": "python",
   "name": "python3"
  },
  "language_info": {
   "codemirror_mode": {
    "name": "ipython",
    "version": 3
   },
   "file_extension": ".py",
   "mimetype": "text/x-python",
   "name": "python",
   "nbconvert_exporter": "python",
   "pygments_lexer": "ipython3",
   "version": "3.11.7"
  }
 },
 "nbformat": 4,
 "nbformat_minor": 5
}
